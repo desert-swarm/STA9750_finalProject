{
 "cells": [
  {
   "cell_type": "code",
   "execution_count": null,
   "metadata": {},
   "outputs": [],
   "source": [
    "from sodapy import Socrata\n",
    "import pandas as pd\n",
    "from urllib.parse import quote, unquote"
   ]
  },
  {
   "cell_type": "code",
   "execution_count": null,
   "metadata": {},
   "outputs": [],
   "source": [
    "client = Socrata(\"data.cityofnewyork.us\", None)\n",
    "\n"
   ]
  },
  {
   "cell_type": "code",
   "execution_count": null,
   "metadata": {},
   "outputs": [],
   "source": [
    "date_ranges = [('2023-01-01', '2023-02-28'),\n",
    "               ('2023-03-01', '2023-04-30'),\n",
    "               ('2023-05-01', '2023-06-30'),\n",
    "               ('2023-7-01', '2023-08-31'),\n",
    "               ('2023-09-01', '2023-10-31'),\n",
    "               ('2023-11-01', '2023-12-31')\n",
    "               ]"
   ]
  },
  {
   "cell_type": "code",
   "execution_count": null,
   "metadata": {},
   "outputs": [],
   "source": [
    "df_dict = {}\n",
    "x = 1\n",
    "for d_range in date_ranges:\n",
    "    resp = client.get('d6zx-ckhd', \n",
    "           select= \"objectid, cad_evnt_id, incident_date, incident_time, boro_nm, radio_code, typ_desc, cip_jobs, add_ts, disp_ts, arrivd_ts, `:@computed_region_efsh_h5xi`, `:@computed_region_f5dn_yrer`,`:@computed_region_yeji_bk3q`,`:@computed_region_sbqj_enih`,`:@computed_region_92fq_4b7q`\",\n",
    "           where = f\"`incident_date` BETWEEN '{d_range[0]}T00:00:00' AND '{d_range[1]}T23:59:59'\",\n",
    "            limit=100)\n",
    "\n",
    "\n",
    "    all_data = []\n",
    "\n",
    "    for rec in resp:\n",
    "        all_data.append(rec)\n",
    "    df_dict[f'df_{x}'] = pd.DataFrame.from_records(all_data)\n",
    "# https://data.cityofnewyork.us/resource/d6zx-ckhd.json?$query=SELECT%0A%20%20%60objectid%60%2C%0A%20%20%60cad_evnt_id%60%2C%0A%20%20%60create_date%60%2C%0A%20%20%60incident_date%60%2C%0A%20%20%60incident_time%60%2C%0A%20%20%60nypd_pct_cd%60%2C%0A%20%20%60boro_nm%60%2C%0A%20%20%60patrl_boro_nm%60%2C%0A%20%20%60geo_cd_x%60%2C%0A%20%20%60geo_cd_y%60%2C%0A%20%20%60radio_code%60%2C%0A%20%20%60typ_desc%60%2C%0A%20%20%60cip_jobs%60%2C%0A%20%20%60add_ts%60%2C%0A%20%20%60disp_ts%60%2C%0A%20%20%60arrivd_ts%60%2C%0A%20%20%60closng_ts%60%2C%0A%20%20%60latitude%60%2C%0A%20%20%60longitude%60%2C%0A%20%20%60location%60%2C%0A%20%20%60%3A%40computed_region_efsh_h5xi%60%2C%0A%20%20%60%3A%40computed_region_f5dn_yrer%60%2C%0A%20%20%60%3A%40computed_region_yeji_bk3q%60%2C%0A%20%20%60%3A%40computed_region_sbqj_enih%60%2C%0A%20%20%60%3A%40computed_region_92fq_4b7q%60%0AWHERE%0A%20%20%60incident_date%60%0A%20%20%20%20BETWEEN%20%222023-01-01T00%3A00%3A00%22%20%3A%3A%20floating_timestamp%0A%20%20%20%20AND%20%222023-12-31T23%3A59%3A59%22%20%3A%3A%20floating_timestamp"
   ]
  },
  {
   "cell_type": "code",
   "execution_count": null,
   "metadata": {},
   "outputs": [],
   "source": []
  }
 ],
 "metadata": {
  "language_info": {
   "name": "python"
  }
 },
 "nbformat": 4,
 "nbformat_minor": 2
}
